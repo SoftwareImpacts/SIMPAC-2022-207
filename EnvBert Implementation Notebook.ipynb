{
 "cells": [
  {
   "attachments": {},
   "cell_type": "markdown",
   "id": "da162acd",
   "metadata": {},
   "source": [
    "## EnvBert - BERT for Environment domain \n"
   ]
  },
  {
   "cell_type": "markdown",
   "id": "07e7d86b",
   "metadata": {},
   "source": [
    "This notebook is walkthrough on how to use EnvBert to predict for your environment data. For any queries please reach out to:\n",
    "\n",
    "Afreen Aman https://www.linkedin.com/in/afreen-aman-177824b8/\n",
    "\n",
    "Deepak John Reji https://www.linkedin.com/in/deepak-john-reji/"
   ]
  },
  {
   "cell_type": "markdown",
   "id": "31f51d24",
   "metadata": {},
   "source": [
    "#### Install EnvBert from Pypi repository"
   ]
  },
  {
   "cell_type": "markdown",
   "id": "f0ab3c67",
   "metadata": {},
   "source": [
    "!pip install EnvBert "
   ]
  },
  {
   "cell_type": "markdown",
   "id": "5dfb594c",
   "metadata": {},
   "source": [
    "for latest versions : https://pypi.org/project/EnvBert/"
   ]
  },
  {
   "cell_type": "markdown",
   "id": "b77c7fb6",
   "metadata": {},
   "source": [
    "### EnvBert for EDD Prediction"
   ]
  },
  {
   "cell_type": "markdown",
   "id": "1ae20062",
   "metadata": {},
   "source": [
    "EnvBert has a base model to predict across 11 categories of Environment data. It uses a finetuned model and a custom embedding layer to predict the class."
   ]
  },
  {
   "cell_type": "code",
   "execution_count": 3,
   "id": "4d538b37",
   "metadata": {},
   "outputs": [
    {
     "data": {
      "text/plain": [
       "['Remediation Standards', 0.3396157974881729]"
      ]
     },
     "execution_count": 3,
     "metadata": {},
     "output_type": "execute_result"
    }
   ],
   "source": [
    "# load functions from envbert\n",
    "from EnvBert.due_diligence import envbert_predict\n",
    "\n",
    "# provide a test sentence\n",
    "doc = \"At the every month post-injection monitoring event, TCE, carbon tetrachloride, and chloroform concentrations were above CBSGs in three of the wells\"\n",
    "\n",
    "# run the function over this test sentence\n",
    "envbert_predict(doc)"
   ]
  },
  {
   "cell_type": "markdown",
   "id": "609eb34f",
   "metadata": {},
   "source": [
    "It returns the predicted class and its prediction probability in a list"
   ]
  },
  {
   "cell_type": "markdown",
   "id": "1d18876b",
   "metadata": {},
   "source": [
    "### EnvBert for determining the relevancy"
   ]
  },
  {
   "cell_type": "code",
   "execution_count": 5,
   "id": "72ce7b16",
   "metadata": {},
   "outputs": [
    {
     "data": {
      "text/plain": [
       "['Not Relevant', 0.14867964865350358]"
      ]
     },
     "execution_count": 5,
     "metadata": {},
     "output_type": "execute_result"
    }
   ],
   "source": [
    "# provide a sentence which is not related Environment\n",
    "doc1 = \"Tesla designs and manufactures electric vehicles, battery energy storage from home to grid-scale, solar panels and solar roof tiles, and related products and services.\"\n",
    "\n",
    "# run the function over this irrelevant sentence\n",
    "envbert_predict(doc1)"
   ]
  },
  {
   "cell_type": "code",
   "execution_count": 6,
   "id": "f99fa99e",
   "metadata": {},
   "outputs": [
    {
     "data": {
      "text/plain": [
       "['Geology', 0.6775815994496605]"
      ]
     },
     "execution_count": 6,
     "metadata": {},
     "output_type": "execute_result"
    }
   ],
   "source": [
    "# provide a sentence which is about environment domain\n",
    "doc2 = \"weathered shale was encountered below the surface area with fluvial deposits. Sediments in the coastal plain region are found above and below the bedrock with sandstones and shales that form the basement rock\"\n",
    "\n",
    "# run the function over this irrelevant sentence\n",
    "envbert_predict(doc2)"
   ]
  },
  {
   "cell_type": "markdown",
   "id": "12f402f5",
   "metadata": {},
   "source": [
    "### EnvBert for ranking the data"
   ]
  },
  {
   "cell_type": "code",
   "execution_count": 13,
   "id": "1462aa86",
   "metadata": {},
   "outputs": [
    {
     "name": "stdout",
     "output_type": "stream",
     "text": [
      "doc:  Norilsk Nickel says ‘flagrant violation of rules’ has been committed by dumping wastewater from reservoir into wildlife.\n",
      "prediction: Contaminated media\n",
      "probability: 0.3669099021814714\n",
      "\n",
      "doc:  Also, some of the people most harmed by groundwater contamination are indigenous or people of color who live in under-resourced areas, she says. Smaller or disadvantaged communities “should be at the front of the line to make sure they get the money that they need,” Evelyn adds. “Unfortunately, this is not the way that it works. So it’s a scramble.”\n",
      "prediction: Contaminated media\n",
      "probability: 0.32199568997106415\n",
      "\n",
      "doc:  California fined Chevron more than $2.7 million for numerous violations, noting that the spills caused “significant threat of harm to human health and the environment.” ​\n",
      "prediction: Contaminated media\n",
      "probability: 0.3608322522465483\n",
      "\n",
      "doc:  Last fall, the Central Valley Regional Water Quality Control Board assured critics that it had reviewed studies of the practice and found no elevated risks to human health or crop safety. The board focused primarily on one question—are crops grown with produced water safe to eat?—and considered as beyond the scope of its responsibility the wider range of potential harms associated with recycling the oil industry’s wastewater.\n",
      "prediction: Contaminated media\n",
      "probability: 0.4100652602095586\n",
      "\n",
      "doc:  But scientists in other parts of the country have investigated these questions, looking at both the consequences of intentional reuse of oil wastewater for irrigation and disposal and accidental spills of the wastewater on wildlife and the environment. And a growing body of research shows that even highly diluted produced water can harm soil, plants, and aquatic life, and that oil drilling boosts groundwater concentrations of naturally occurring toxic elements like arsenic, and radioactive elements like radium, while also endangering sensitive ecosystems and protected wildlife.\n",
      "prediction: Contaminated media\n",
      "probability: 0.49795587937694524\n",
      "\n"
     ]
    }
   ],
   "source": [
    "# provide a set of sentences\n",
    "doc_list = [\"Norilsk Nickel says ‘flagrant violation of rules’ has been committed by dumping wastewater from reservoir into wildlife.\",\n",
    "\"Also, some of the people most harmed by groundwater contamination are indigenous or people of color who live in under-resourced areas, she says. Smaller or disadvantaged communities “should be at the front of the line to make sure they get the money that they need,” Evelyn adds. “Unfortunately, this is not the way that it works. So it’s a scramble.”\",\n",
    "\"California fined Chevron more than $2.7 million for numerous violations, noting that the spills caused “significant threat of harm to human health and the environment.” ​\",\n",
    "\"Last fall, the Central Valley Regional Water Quality Control Board assured critics that it had reviewed studies of the practice and found no elevated risks to human health or crop safety. The board focused primarily on one question—are crops grown with produced water safe to eat?—and considered as beyond the scope of its responsibility the wider range of potential harms associated with recycling the oil industry’s wastewater.\",\n",
    "\"But scientists in other parts of the country have investigated these questions, looking at both the consequences of intentional reuse of oil wastewater for irrigation and disposal and accidental spills of the wastewater on wildlife and the environment. And a growing body of research shows that even highly diluted produced water can harm soil, plants, and aquatic life, and that oil drilling boosts groundwater concentrations of naturally occurring toxic elements like arsenic, and radioactive elements like radium, while also endangering sensitive ecosystems and protected wildlife.\"]\n",
    "\n",
    "for i in doc_list:\n",
    "    print(f'doc: ', i)\n",
    "    for j in [envbert_predict(i)]:\n",
    "        print(f'prediction:',j[0])\n",
    "        print(f'probability:', j[1])\n",
    "    print(\"\")\n"
   ]
  },
  {
   "cell_type": "markdown",
   "id": "11d89ce9",
   "metadata": {},
   "source": [
    "### EnvBert for Fine-tuning new data"
   ]
  },
  {
   "cell_type": "code",
   "execution_count": null,
   "id": "52bfb7cd",
   "metadata": {},
   "outputs": [],
   "source": [
    "# load all the functions\n",
    "from EnvBert.due_diligence import *\n",
    "\n",
    "# define training config\n",
    "training_config = {\n",
    "    'learning_rate':5e-5,\n",
    "    'epochs':10,\n",
    "    'batch_size':16,\n",
    "    'sentence column name':'Sentence', #training sentences column name\n",
    "    'label column name': 'label', #encoded labels column name\n",
    "    'save_dir': r'XX\\XX\\XXX' #model save path\n",
    "    }\n",
    "\n",
    "\"\"\"\n",
    "please make sure you encode your labels\n",
    "provide the save_dir path to automatically save the model after training\n",
    "'sentence column name' and 'label column name' are mandatory fields in training config\n",
    "you can tweak the other parameters or it will be taken by default\n",
    "\"\"\"\n",
    "\n",
    "# Train the model with just 1 line\n",
    "new_model, new_tokenizer = finetune(df, training_config) #df is the dataframe with your sentences and labels"
   ]
  },
  {
   "cell_type": "code",
   "execution_count": null,
   "id": "9744fc88",
   "metadata": {},
   "outputs": [],
   "source": []
  }
 ],
 "metadata": {
  "kernelspec": {
   "display_name": "Python 3",
   "language": "python",
   "name": "python3"
  },
  "language_info": {
   "codemirror_mode": {
    "name": "ipython",
    "version": 3
   },
   "file_extension": ".py",
   "mimetype": "text/x-python",
   "name": "python",
   "nbconvert_exporter": "python",
   "pygments_lexer": "ipython3",
   "version": "3.8.13"
  }
 },
 "nbformat": 4,
 "nbformat_minor": 5
}
